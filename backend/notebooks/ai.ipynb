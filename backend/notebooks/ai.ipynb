{
 "cells": [
  {
   "cell_type": "code",
   "execution_count": 1,
   "id": "db7dbcdc-2730-4d10-ab92-0fe7b1bab74c",
   "metadata": {},
   "outputs": [],
   "source": [
    "import os\n",
    "import sys\n",
    "import inspect\n",
    "from dotenv import load_dotenv"
   ]
  },
  {
   "cell_type": "code",
   "execution_count": 2,
   "id": "fb87b494-b707-4e26-9485-fd2b3b565fd6",
   "metadata": {},
   "outputs": [],
   "source": [
    "%load_ext autoreload\n",
    "%autoreload 2"
   ]
  },
  {
   "cell_type": "code",
   "execution_count": 3,
   "id": "c30f856d-a3dd-4da2-8ec8-774f5f33f86f",
   "metadata": {},
   "outputs": [],
   "source": [
    "# to import backend module\n",
    "currentdir = os.path.dirname(os.path.abspath(globals()['_dh'][0]))\n",
    "if currentdir not in sys.path:\n",
    "    sys.path.insert(0, currentdir) "
   ]
  },
  {
   "cell_type": "code",
   "execution_count": 4,
   "id": "364281e0-5dba-4672-bb6d-6e59ef093f2a",
   "metadata": {},
   "outputs": [
    {
     "data": {
      "text/plain": [
       "True"
      ]
     },
     "execution_count": 4,
     "metadata": {},
     "output_type": "execute_result"
    }
   ],
   "source": [
    "# env variables\n",
    "load_dotenv('../.env.local')"
   ]
  },
  {
   "cell_type": "code",
   "execution_count": 5,
   "id": "7be56ff5-73b5-4b5d-8457-157c496c34cd",
   "metadata": {},
   "outputs": [],
   "source": [
    "from backend.ai import *"
   ]
  },
  {
   "cell_type": "code",
   "execution_count": 7,
   "id": "8f2f66f1-4eaa-4973-972e-99694d289616",
   "metadata": {},
   "outputs": [
    {
     "data": {
      "text/plain": [
       "'yay'"
      ]
     },
     "execution_count": 7,
     "metadata": {},
     "output_type": "execute_result"
    }
   ],
   "source": [
    "what_next('a','b','c')"
   ]
  },
  {
   "cell_type": "code",
   "execution_count": null,
   "id": "51903c8d-5412-485b-9617-e2be7be5197e",
   "metadata": {},
   "outputs": [],
   "source": []
  }
 ],
 "metadata": {
  "kernelspec": {
   "display_name": "Python 3 (ipykernel)",
   "language": "python",
   "name": "python3"
  },
  "language_info": {
   "codemirror_mode": {
    "name": "ipython",
    "version": 3
   },
   "file_extension": ".py",
   "mimetype": "text/x-python",
   "name": "python",
   "nbconvert_exporter": "python",
   "pygments_lexer": "ipython3",
   "version": "3.11.2"
  }
 },
 "nbformat": 4,
 "nbformat_minor": 5
}
