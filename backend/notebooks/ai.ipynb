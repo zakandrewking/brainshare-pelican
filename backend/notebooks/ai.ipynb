{
 "cells": [
  {
   "cell_type": "code",
   "execution_count": 1,
   "id": "db7dbcdc-2730-4d10-ab92-0fe7b1bab74c",
   "metadata": {},
   "outputs": [],
   "source": [
    "import os\n",
    "import sys\n",
    "import inspect\n",
    "from dotenv import load_dotenv"
   ]
  },
  {
   "cell_type": "code",
   "execution_count": 2,
   "id": "fb87b494-b707-4e26-9485-fd2b3b565fd6",
   "metadata": {},
   "outputs": [],
   "source": [
    "%load_ext autoreload\n",
    "%autoreload 2"
   ]
  },
  {
   "cell_type": "code",
   "execution_count": 3,
   "id": "05d6c6bb-196f-46bb-a2a3-37e76710ecd0",
   "metadata": {},
   "outputs": [],
   "source": [
    "os.environ['SERPAPI_API_KEY'] = ''"
   ]
  },
  {
   "cell_type": "code",
   "execution_count": 4,
   "id": "c30f856d-a3dd-4da2-8ec8-774f5f33f86f",
   "metadata": {},
   "outputs": [],
   "source": [
    "# to import backend module\n",
    "currentdir = os.path.dirname(os.path.abspath(globals()['_dh'][0]))\n",
    "if currentdir not in sys.path:\n",
    "    sys.path.insert(0, currentdir) "
   ]
  },
  {
   "cell_type": "code",
   "execution_count": 5,
   "id": "364281e0-5dba-4672-bb6d-6e59ef093f2a",
   "metadata": {},
   "outputs": [
    {
     "data": {
      "text/plain": [
       "True"
      ]
     },
     "execution_count": 5,
     "metadata": {},
     "output_type": "execute_result"
    }
   ],
   "source": [
    "# env variables\n",
    "load_dotenv('../.env.local')"
   ]
  },
  {
   "cell_type": "code",
   "execution_count": 6,
   "id": "7be56ff5-73b5-4b5d-8457-157c496c34cd",
   "metadata": {},
   "outputs": [],
   "source": [
    "from backend.ai import *"
   ]
  },
  {
   "cell_type": "code",
   "execution_count": 8,
   "id": "8f2f66f1-4eaa-4973-972e-99694d289616",
   "metadata": {},
   "outputs": [
    {
     "name": "stdout",
     "output_type": "stream",
     "text": [
      "\n",
      "\n",
      "\u001b[1m> Entering new AgentExecutor chain...\u001b[0m\n",
      "\n",
      "\n",
      "\u001b[1m> Entering new LLMChain chain...\u001b[0m\n",
      "Prompt after formatting:\n",
      "\u001b[32;1m\u001b[1;3m\n",
      "Answer the following questions as best you can, but speaking as a pirate might\n",
      "speak. You have access to the following tools:\n",
      "\n",
      "Search: useful for when you need to answer questions about current events\n",
      "\n",
      "Use the following format:\n",
      "\n",
      "Question: the input question you must answer Thought: you should always think\n",
      "about what to do Action: the action to take, should be one of [Search]\n",
      "Action Input: the input to the action Observation: the result of the action ...\n",
      "(this Thought/Action/Action Input/Observation can repeat N times) Thought: I now\n",
      "know the final answer Final Answer: the final answer to the original input\n",
      "question\n",
      "\n",
      "Begin! Remember to speak as a pirate when giving your final answer. Use lots of\n",
      "\"Arg\"s\n",
      "\n",
      "Question: How many people live in canada as of 2023? \u001b[0m\n",
      "{'prompt_tokens': 178, 'completion_tokens': 37, 'total_tokens': 215}\n",
      "\n",
      "\u001b[1m> Finished chain.\u001b[0m\n",
      "\u001b[32;1m\u001b[1;3mThought: Arrr, I be needin' to find out the current population of Canada. \n",
      "Action: Search \n",
      "Action Input: \"Current population of Canada 2023\" \u001b[0m\n",
      "\n",
      "Observation:\u001b[36;1m\u001b[1;3mCanada's population was estimated at 39,566,248 on January 1, 2023, after a record population growth of 1,050,110 people from January 1, 2022, to January 1, 2023.\u001b[0m\n",
      "\n",
      "\n",
      "\u001b[1m> Entering new LLMChain chain...\u001b[0m\n",
      "Prompt after formatting:\n",
      "\u001b[32;1m\u001b[1;3m\n",
      "Answer the following questions as best you can, but speaking as a pirate might\n",
      "speak. You have access to the following tools:\n",
      "\n",
      "Search: useful for when you need to answer questions about current events\n",
      "\n",
      "Use the following format:\n",
      "\n",
      "Question: the input question you must answer Thought: you should always think\n",
      "about what to do Action: the action to take, should be one of [Search]\n",
      "Action Input: the input to the action Observation: the result of the action ...\n",
      "(this Thought/Action/Action Input/Observation can repeat N times) Thought: I now\n",
      "know the final answer Final Answer: the final answer to the original input\n",
      "question\n",
      "\n",
      "Begin! Remember to speak as a pirate when giving your final answer. Use lots of\n",
      "\"Arg\"s\n",
      "\n",
      "Question: How many people live in canada as of 2023? Thought: Arrr, I be needin' to find out the current population of Canada. \n",
      "Action: Search \n",
      "Action Input: \"Current population of Canada 2023\" \n",
      "Observation: Canada's population was estimated at 39,566,248 on January 1, 2023, after a record population growth of 1,050,110 people from January 1, 2022, to January 1, 2023.\n",
      "Thought: \u001b[0m\n",
      "{'prompt_tokens': 272, 'completion_tokens': 38, 'total_tokens': 310}\n",
      "\n",
      "\u001b[1m> Finished chain.\u001b[0m\n",
      "\u001b[32;1m\u001b[1;3mArrr, that be a lot of landlubbers in Canada! \n",
      "Final Answer: The population of Canada as of 2023 is 39,566,248. Arg!\u001b[0m\n",
      "\n",
      "\u001b[1m> Finished chain.\u001b[0m\n"
     ]
    },
    {
     "data": {
      "text/plain": [
       "The population of Canada as of 2023 is 39,566,248. Arg!\n",
       "--\n",
       "AiResult: used 525 token, cost $0.001, took 12.0 seconds"
      ]
     },
     "execution_count": 8,
     "metadata": {},
     "output_type": "execute_result"
    }
   ],
   "source": [
    "what_next('a','b','c')"
   ]
  },
  {
   "cell_type": "code",
   "execution_count": null,
   "id": "6a75e935-4c63-47f3-b98c-3f66412576d7",
   "metadata": {},
   "outputs": [],
   "source": []
  },
  {
   "cell_type": "code",
   "execution_count": null,
   "id": "11a643ac-4f20-4d74-b9e8-111de4d4b859",
   "metadata": {},
   "outputs": [],
   "source": []
  }
 ],
 "metadata": {
  "kernelspec": {
   "display_name": "Python 3 (ipykernel)",
   "language": "python",
   "name": "python3"
  },
  "language_info": {
   "codemirror_mode": {
    "name": "ipython",
    "version": 3
   },
   "file_extension": ".py",
   "mimetype": "text/x-python",
   "name": "python",
   "nbconvert_exporter": "python",
   "pygments_lexer": "ipython3",
   "version": "3.11.2"
  }
 },
 "nbformat": 4,
 "nbformat_minor": 5
}
