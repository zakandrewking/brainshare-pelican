{
 "cells": [
  {
   "cell_type": "code",
   "execution_count": 1,
   "id": "db7dbcdc-2730-4d10-ab92-0fe7b1bab74c",
   "metadata": {},
   "outputs": [],
   "source": [
    "import os\n",
    "import sys\n",
    "import inspect\n",
    "from dotenv import load_dotenv"
   ]
  },
  {
   "cell_type": "code",
   "execution_count": 2,
   "id": "fb87b494-b707-4e26-9485-fd2b3b565fd6",
   "metadata": {},
   "outputs": [],
   "source": [
    "%load_ext autoreload\n",
    "%autoreload 2"
   ]
  },
  {
   "cell_type": "code",
   "execution_count": 3,
   "id": "c30f856d-a3dd-4da2-8ec8-774f5f33f86f",
   "metadata": {},
   "outputs": [],
   "source": [
    "# to import backend module\n",
    "currentdir = os.path.dirname(os.path.abspath(globals()['_dh'][0]))\n",
    "if currentdir not in sys.path:\n",
    "    sys.path.insert(0, currentdir) "
   ]
  },
  {
   "cell_type": "code",
   "execution_count": 4,
   "id": "364281e0-5dba-4672-bb6d-6e59ef093f2a",
   "metadata": {},
   "outputs": [
    {
     "data": {
      "text/plain": [
       "True"
      ]
     },
     "execution_count": 4,
     "metadata": {},
     "output_type": "execute_result"
    }
   ],
   "source": [
    "# env variables\n",
    "load_dotenv('../.env.local')"
   ]
  },
  {
   "cell_type": "code",
   "execution_count": 19,
   "id": "7be56ff5-73b5-4b5d-8457-157c496c34cd",
   "metadata": {},
   "outputs": [],
   "source": [
    "from backend.ai import *\n",
    "from backend.ai import clean\n",
    "from backend.ast import *"
   ]
  },
  {
   "cell_type": "code",
   "execution_count": 6,
   "id": "96851ef5-c1f6-4145-8e0e-8071b56c5530",
   "metadata": {},
   "outputs": [],
   "source": [
    "data_head = \"\"\"\n",
    "UNIQUE_ID\tPWPNT_LAT\tPWPNT_LON\tNAME\tGADM_ISO\tGADM_NAME\tAREA\tB75\tB90\tB00\tB15\tP75\tP90\tP00\tP15\tCLASS\tPermalink\t\t\t\t\t\t\t\t\t\n",
    "4448\t34.52843\t69.14994\tKabul\tAFG\tAfghanistan\t321\t46.56713217\t84.6349568\t97.09434273\t110.5077968\t1111315.886\t1347143.46\t2426451.543\t4370944.342\tUC\thttps://ghsl.jrc.ec.europa.eu/visualisation.php#lnlt=@34.52843,69.14994,10z&v=201&ln=0&gr=ds&lv=000100000001000111&lo=aaa3aaaaaaa5aaaaaa&pg=V\t\t\t\t\t\t\t\t\t\n",
    "758\t34.35273\t62.21094\tHerat\tAFG\tAfghanistan\t58\t4.962034005\t8.537432097\t11.37458099\t13.31668304\t147310.5829\t209034.7942\t410757.4447\t840022.8842\tUC\thttps://ghsl.jrc.ec.europa.eu/visualisation.php#lnlt=@34.35273,62.21094,10z&v=201&ln=0&gr=ds&lv=000100000001000111&lo=aaa3aaaaaaa5aaaaaa&pg=V\t\t\t\t\t\t\t\t\t\n",
    "\"\"\""
   ]
  },
  {
   "cell_type": "code",
   "execution_count": 7,
   "id": "55619fe4-1ea5-4ced-af14-da564a06b004",
   "metadata": {},
   "outputs": [],
   "source": [
    "data_description = \"\"\"\n",
    "GHS Urban Centre Database 2015: national population and built-up area dynamics, v1.0, Afghanistan\n",
    "COLUMN\tSHORT DESC\n",
    "UNIQUE_ID\tUnique ID of Spatial entitity (Urban Centre; Dense Urban Cluster; Semi-Dense Urban Cluster)\n",
    "PWPNT_LAT\tPopulation Weighted Centroid Latitude (WGS 84)\n",
    "PWPNT_LON\tPopulation Weighted Centroid Longitude (WGS 84)\n",
    "NAME\tSpatial entity name (visualisation purpose)\n",
    "GADM_ISO\tGADM2.8 country: ISO 3\n",
    "GADM_NAME\tGADM2.8 country: name\n",
    "AREA\tTotal area of the urban centre (km sq)\n",
    "B75\tTotal built-up area in 1975 within the urban centre of 2015\n",
    "B90\tTotal built-up area in 1990 within the urban centre of 2015\n",
    "B00\tTotal built-up area in 2000 within the urban centre of 2015\n",
    "B15\tTotal built-up area in 2015 within the urban centre of 2015\n",
    "P75\tTotal population in 1975 within the urban centre of 2015\n",
    "P90\tTotal population in 1990 within the urban centre of 2015\n",
    "P00\tTotal population in 2000 within the urban centre of 2015\n",
    "P15\tTotal population in 2015 within the urban centre of 2015\n",
    "CLASS\tSpecifies the class of the spatial entity  (UC: Urban Centre; DUC: Dense Urban Cluster; SDUC: Semi-Dense Urban Cluster)\n",
    "PLINK\tPermalink to the interactive visualisation on the GHSL website https://ghsl.jrc.ec.europa.eu/visualisation.php\n",
    "\"\"\""
   ]
  },
  {
   "cell_type": "code",
   "execution_count": 15,
   "id": "8f2f66f1-4eaa-4973-972e-99694d289616",
   "metadata": {},
   "outputs": [
    {
     "name": "stdout",
     "output_type": "stream",
     "text": [
      "-- langchain-mod --\n",
      "{'prompt_tokens': 977, 'completion_tokens': 510, 'total_tokens': 1487}\n",
      "-- langchain-mod --\n"
     ]
    }
   ],
   "source": [
    "result = import_code(data_head, data_description, model_name='gpt-4')"
   ]
  },
  {
   "cell_type": "code",
   "execution_count": 17,
   "id": "4949a848-eb95-4498-8c6b-4879ee05bc7e",
   "metadata": {},
   "outputs": [
    {
     "data": {
      "text/plain": [
       "data = spark.read.csv(\"data.txt\", header=True, inferSchema=True, sep=\"\\t\")\n",
       "\n",
       "# create nodes data frame\n",
       "nodes = data.select(\"UNIQUE_ID\", \"NAME\", \"PWPNT_LAT\", \"PWPNT_LON\", \"GADM_ISO\", \"GADM_NAME\", \"AREA\", \"CLASS\") \\\n",
       "    .withColumnRenamed(\"UNIQUE_ID\", \"id\") \\\n",
       "    .withColumnRenamed(\"NAME\", \"node_type\") \\\n",
       "    .withColumnRenamed(\"PWPNT_LAT\", \"latitude\") \\\n",
       "    .withColumnRenamed(\"PWPNT_LON\", \"longitude\") \\\n",
       "    .withColumnRenamed(\"GADM_ISO\", \"country_iso\") \\\n",
       "    .withColumnRenamed(\"GADM_NAME\", \"country_name\") \\\n",
       "    .withColumnRenamed(\"AREA\", \"area\") \\\n",
       "    .withColumnRenamed(\"CLASS\", \"class\")\n",
       "\n",
       "# create edges data frame\n",
       "edges = data.select(\"UNIQUE_ID\", \"B75\", \"B90\", \"B00\", \"B15\", \"P75\", \"P90\", \"P00\", \"P15\") \\\n",
       "    .withColumnRenamed(\"UNIQUE_ID\", \"source_id\")\n",
       "\n",
       "# create target nodes for edges\n",
       "targets = [\"B75\", \"B90\", \"B00\", \"B15\", \"P75\", \"P90\", \"P00\", \"P15\"]\n",
       "for target in targets:\n",
       "    edges = edges.withColumn(target, edges[\"source_id\"])\n",
       "\n",
       "# rename columns for edges\n",
       "edges = edges.withColumnRenamed(\"B75\", \"B75_target_id\") \\\n",
       "    .withColumnRenamed(\"B90\", \"B90_target_id\") \\\n",
       "    .withColumnRenamed(\"B00\", \"B00_target_id\") \\\n",
       "    .withColumnRenamed(\"B15\", \"B15_target_id\") \\\n",
       "    .withColumnRenamed(\"P75\", \"P75_target_id\") \\\n",
       "    .withColumnRenamed(\"P90\", \"P90_target_id\") \\\n",
       "    .withColumnRenamed(\"P00\", \"P00_target_id\") \\\n",
       "    .withColumnRenamed(\"P15\", \"P15_target_id\")\n",
       "\n",
       "# create relationship types for edges\n",
       "relationship_types = [\"built_up_area\", \"population\"]\n",
       "for rel_type in relationship_types:\n",
       "    edges = edges.withColumn(rel_type, rel_type)\n",
       "\n",
       "# output nodes and edges data frames\n",
       "nodes.show()\n",
       "edges.show()\n",
       "\n",
       "# stop SparkSession\n",
       "spark.stop()\n",
       "--\n",
       "AiResult: used 1487 token, cost $0.0599, took 95.6 seconds"
      ]
     },
     "execution_count": 17,
     "metadata": {},
     "output_type": "execute_result"
    }
   ],
   "source": [
    "result"
   ]
  },
  {
   "cell_type": "code",
   "execution_count": 20,
   "id": "8cad8fcb-f70a-4874-b562-9886d733d4b1",
   "metadata": {},
   "outputs": [
    {
     "data": {
      "text/plain": [
       "'data = spark.read.csv(\"data.txt\", header=True, inferSchema=True, sep=\"\\\\t\")\\n\\n# create nodes data frame\\nnodes = data.select(\"UNIQUE_ID\", \"NAME\", \"PWPNT_LAT\", \"PWPNT_LON\", \"GADM_ISO\", \"GADM_NAME\", \"AREA\", \"CLASS\") \\\\\\n    .withColumnRenamed(\"UNIQUE_ID\", \"id\") \\\\\\n    .withColumnRenamed(\"NAME\", \"node_type\") \\\\\\n    .withColumnRenamed(\"PWPNT_LAT\", \"latitude\") \\\\\\n    .withColumnRenamed(\"PWPNT_LON\", \"longitude\") \\\\\\n    .withColumnRenamed(\"GADM_ISO\", \"country_iso\") \\\\\\n    .withColumnRenamed(\"GADM_NAME\", \"country_name\") \\\\\\n    .withColumnRenamed(\"AREA\", \"area\") \\\\\\n    .withColumnRenamed(\"CLASS\", \"class\")\\n\\n# create edges data frame\\nedges = data.select(\"UNIQUE_ID\", \"B75\", \"B90\", \"B00\", \"B15\", \"P75\", \"P90\", \"P00\", \"P15\") \\\\\\n    .withColumnRenamed(\"UNIQUE_ID\", \"source_id\")\\n\\n# create target nodes for edges\\ntargets = [\"B75\", \"B90\", \"B00\", \"B15\", \"P75\", \"P90\", \"P00\", \"P15\"]\\nfor target in targets:\\n    edges = edges.withColumn(target, edges[\"source_id\"])\\n\\n# rename columns for edges\\nedges = edges.withColumnRenamed(\"B75\", \"B75_target_id\") \\\\\\n    .withColumnRenamed(\"B90\", \"B90_target_id\") \\\\\\n    .withColumnRenamed(\"B00\", \"B00_target_id\") \\\\\\n    .withColumnRenamed(\"B15\", \"B15_target_id\") \\\\\\n    .withColumnRenamed(\"P75\", \"P75_target_id\") \\\\\\n    .withColumnRenamed(\"P90\", \"P90_target_id\") \\\\\\n    .withColumnRenamed(\"P00\", \"P00_target_id\") \\\\\\n    .withColumnRenamed(\"P15\", \"P15_target_id\")\\n\\n# create relationship types for edges\\nrelationship_types = [\"built_up_area\", \"population\"]\\nfor rel_type in relationship_types:\\n    edges = edges.withColumn(rel_type, rel_type)\\n\\n# output nodes and edges data frames\\nnodes.show()\\nedges.show()\\n\\n# stop SparkSession\\nspark.stop()'"
      ]
     },
     "execution_count": 20,
     "metadata": {},
     "output_type": "execute_result"
    }
   ],
   "source": [
    "cleaned = clean(result.result)\n",
    "cleaned"
   ]
  },
  {
   "cell_type": "code",
   "execution_count": 21,
   "id": "0b072bca-a99e-4f8a-bbe1-fdb47a835582",
   "metadata": {},
   "outputs": [],
   "source": [
    "import ast"
   ]
  },
  {
   "cell_type": "code",
   "execution_count": 22,
   "id": "6ece19aa-f963-49c4-90f0-6a66b4a0f161",
   "metadata": {},
   "outputs": [],
   "source": [
    "a = ast.parse(cleaned)"
   ]
  },
  {
   "cell_type": "code",
   "execution_count": 27,
   "id": "da219296-45a2-4d3e-a09e-47f4a0750e9e",
   "metadata": {},
   "outputs": [],
   "source": [
    "assign = a.body[0]"
   ]
  },
  {
   "cell_type": "code",
   "execution_count": 31,
   "id": "87b6fcb0-0b77-4001-9d8d-ce506f7b47f7",
   "metadata": {},
   "outputs": [
    {
     "data": {
      "text/plain": [
       "<ast.Attribute at 0x114ca7370>"
      ]
     },
     "execution_count": 31,
     "metadata": {},
     "output_type": "execute_result"
    }
   ],
   "source": [
    "assign.value.func.value"
   ]
  },
  {
   "cell_type": "markdown",
   "id": "e8debd16-3132-4721-b778-f0d387b27713",
   "metadata": {},
   "source": [
    "# from agent_example.py"
   ]
  },
  {
   "cell_type": "markdown",
   "id": "2cdb4dc7-5d1a-4bda-acb1-1dc599f492d7",
   "metadata": {},
   "source": [
    "GPT4\n",
    "\n",
    "```python\n",
    "from brainshare import load_node, load_edge\n",
    "\n",
    "def load_data(file_contents):\n",
    "    lines = file_contents.split(\"\\n\")\n",
    "    header = lines.pop(0).split(\"\\t\")\n",
    "\n",
    "    for line in lines:\n",
    "        if not line:\n",
    "            continue\n",
    "        data = line.split(\"\\t\")\n",
    "        data_dict = {header[i]: data[i] for i in range(len(header))}\n",
    "\n",
    "        city_data = {\n",
    "            \"name\": data_dict[\"NAME\"],\n",
    "            \"population\": int(float(data_dict[\"P15\"])),\n",
    "            \"latitude\": float(data_dict[\"PWPNT_LAT\"]),\n",
    "            \"longitude\": float(data_dict[\"PWPNT_LON\"]),\n",
    "        }\n",
    "        city_id = load_node(\"city\", city_data)\n",
    "\n",
    "        country_data = {\n",
    "            \"name\": data_dict[\"GADM_NAME\"],\n",
    "            \"iso\": data_dict[\"GADM_ISO\"],\n",
    "        }\n",
    "        country_id = load_node(\"country\", country_data)\n",
    "\n",
    "        load_edge(city_id, country_id)\n",
    "\n",
    "load_data(file_contents)\n",
    "```\n",
    "--\n",
    "AiResult: used 5952 token, cost $0.1886, took 74.9 seconds"
   ]
  },
  {
   "cell_type": "markdown",
   "id": "95e18e71-311f-487c-9322-b65f552ffa60",
   "metadata": {},
   "source": [
    "GPT3\n",
    "\n",
    "```python\n",
    "from brainshare import *\n",
    "\n",
    "# Define the node type\n",
    "node_type = \"city\"\n",
    "\n",
    "# Parse the file contents\n",
    "file_contents = file_contents.split(\"\\n\")[3:]\n",
    "for line in file_contents:\n",
    "    if line:\n",
    "        data = line.split(\"\\t\")\n",
    "        # Create a dictionary of the node data\n",
    "        node_data = {\n",
    "            \"name\": data[3],\n",
    "            \"population\": int(data[15]),\n",
    "            \"state\": data[5],\n",
    "            \"country\": data[4]\n",
    "        }\n",
    "        # Load the node into the knowledge graph\n",
    "        load_node(node_type, node_data)\n",
    "```\n",
    "\n",
    "--\n",
    "AiResult: used 4561 token, cost $0.0091, took 26.5 seconds"
   ]
  },
  {
   "cell_type": "code",
   "execution_count": null,
   "id": "cde4a917-f89f-475c-aea0-1ce69523aa03",
   "metadata": {},
   "outputs": [],
   "source": []
  }
 ],
 "metadata": {
  "kernelspec": {
   "display_name": "Python 3 (ipykernel)",
   "language": "python",
   "name": "python3"
  },
  "language_info": {
   "codemirror_mode": {
    "name": "ipython",
    "version": 3
   },
   "file_extension": ".py",
   "mimetype": "text/x-python",
   "name": "python",
   "nbconvert_exporter": "python",
   "pygments_lexer": "ipython3",
   "version": "3.11.2"
  }
 },
 "nbformat": 4,
 "nbformat_minor": 5
}
