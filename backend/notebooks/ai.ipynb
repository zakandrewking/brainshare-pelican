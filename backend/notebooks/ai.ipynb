{
 "cells": [
  {
   "cell_type": "code",
   "execution_count": 1,
   "id": "db7dbcdc-2730-4d10-ab92-0fe7b1bab74c",
   "metadata": {},
   "outputs": [],
   "source": [
    "import os\n",
    "import sys\n",
    "import inspect\n",
    "from dotenv import load_dotenv"
   ]
  },
  {
   "cell_type": "code",
   "execution_count": 2,
   "id": "fb87b494-b707-4e26-9485-fd2b3b565fd6",
   "metadata": {},
   "outputs": [],
   "source": [
    "%load_ext autoreload\n",
    "%autoreload 2"
   ]
  },
  {
   "cell_type": "code",
   "execution_count": 3,
   "id": "c30f856d-a3dd-4da2-8ec8-774f5f33f86f",
   "metadata": {},
   "outputs": [],
   "source": [
    "# to import backend module\n",
    "currentdir = os.path.dirname(os.path.abspath(globals()['_dh'][0]))\n",
    "if currentdir not in sys.path:\n",
    "    sys.path.insert(0, currentdir) "
   ]
  },
  {
   "cell_type": "code",
   "execution_count": 4,
   "id": "364281e0-5dba-4672-bb6d-6e59ef093f2a",
   "metadata": {},
   "outputs": [
    {
     "data": {
      "text/plain": [
       "True"
      ]
     },
     "execution_count": 4,
     "metadata": {},
     "output_type": "execute_result"
    }
   ],
   "source": [
    "# env variables\n",
    "load_dotenv('../.env.local')"
   ]
  },
  {
   "cell_type": "code",
   "execution_count": 5,
   "id": "7be56ff5-73b5-4b5d-8457-157c496c34cd",
   "metadata": {},
   "outputs": [],
   "source": [
    "from backend.ai import *"
   ]
  },
  {
   "cell_type": "code",
   "execution_count": 14,
   "id": "8f2f66f1-4eaa-4973-972e-99694d289616",
   "metadata": {},
   "outputs": [
    {
     "name": "stdout",
     "output_type": "stream",
     "text": [
      "\n",
      "\n",
      "\u001b[1m> Entering new AgentExecutor chain...\u001b[0m\n",
      "\n",
      "\n",
      "\u001b[1m> Entering new LLMChain chain...\u001b[0m\n",
      "Prompt after formatting:\n",
      "\u001b[32;1m\u001b[1;3mAnswer the following questions as best you can. You have access to the following tools:\n",
      "\n",
      "Search: useful for when you need to answer questions about current events\n",
      "\n",
      "Use the following format:\n",
      "\n",
      "Question: the input question you must answer\n",
      "Thought: you should always think about what to do\n",
      "Action: the action to take, should be one of [Search]\n",
      "Action Input: the input to the action\n",
      "Observation: the result of the action\n",
      "... (this Thought/Action/Action Input/Observation can repeat N times)\n",
      "Thought: I now know the final answer\n",
      "Final Answer: the final answer to the original input question\n",
      "\n",
      "Begin!\n",
      "\n",
      "Question: How many people live in canada as of 2023?\n",
      "Thought:\u001b[0m\n",
      "-- langchain-mod --\n",
      "{'prompt_tokens': 152, 'completion_tokens': 28, 'total_tokens': 180}\n",
      "-- langchain-mod --\n",
      "\n",
      "\u001b[1m> Finished chain.\u001b[0m\n",
      "\u001b[32;1m\u001b[1;3mI need to find a reliable source for current population data for Canada.\n",
      "Action: Search\n",
      "Action Input: \"Canada population 2023\"\u001b[0m\n",
      "Observation: \u001b[36;1m\u001b[1;3m39,566,248\u001b[0m\n",
      "Thought:\n",
      "\n",
      "\u001b[1m> Entering new LLMChain chain...\u001b[0m\n",
      "Prompt after formatting:\n",
      "\u001b[32;1m\u001b[1;3mAnswer the following questions as best you can. You have access to the following tools:\n",
      "\n",
      "Search: useful for when you need to answer questions about current events\n",
      "\n",
      "Use the following format:\n",
      "\n",
      "Question: the input question you must answer\n",
      "Thought: you should always think about what to do\n",
      "Action: the action to take, should be one of [Search]\n",
      "Action Input: the input to the action\n",
      "Observation: the result of the action\n",
      "... (this Thought/Action/Action Input/Observation can repeat N times)\n",
      "Thought: I now know the final answer\n",
      "Final Answer: the final answer to the original input question\n",
      "\n",
      "Begin!\n",
      "\n",
      "Question: How many people live in canada as of 2023?\n",
      "Thought:I need to find a reliable source for current population data for Canada.\n",
      "Action: Search\n",
      "Action Input: \"Canada population 2023\"\n",
      "Observation: 39,566,248\n",
      "Thought:\u001b[0m\n",
      "-- langchain-mod --\n",
      "{'prompt_tokens': 191, 'completion_tokens': 31, 'total_tokens': 222}\n",
      "-- langchain-mod --\n",
      "\n",
      "\u001b[1m> Finished chain.\u001b[0m\n",
      "\u001b[32;1m\u001b[1;3mThis number seems accurate, but I should double-check with another source to confirm.\n",
      "Action: Search\n",
      "Action Input: \"Canada population 2023 statistics\"\u001b[0m\n",
      "Observation: \u001b[36;1m\u001b[1;3mCanada's population was estimated at 39,566,248 on January 1, 2023, after a record population growth of 1,050,110 people from January 1, 2022, to January 1, 2023.\u001b[0m\n",
      "Thought:\n",
      "\n",
      "\u001b[1m> Entering new LLMChain chain...\u001b[0m\n",
      "Prompt after formatting:\n",
      "\u001b[32;1m\u001b[1;3mAnswer the following questions as best you can. You have access to the following tools:\n",
      "\n",
      "Search: useful for when you need to answer questions about current events\n",
      "\n",
      "Use the following format:\n",
      "\n",
      "Question: the input question you must answer\n",
      "Thought: you should always think about what to do\n",
      "Action: the action to take, should be one of [Search]\n",
      "Action Input: the input to the action\n",
      "Observation: the result of the action\n",
      "... (this Thought/Action/Action Input/Observation can repeat N times)\n",
      "Thought: I now know the final answer\n",
      "Final Answer: the final answer to the original input question\n",
      "\n",
      "Begin!\n",
      "\n",
      "Question: How many people live in canada as of 2023?\n",
      "Thought:I need to find a reliable source for current population data for Canada.\n",
      "Action: Search\n",
      "Action Input: \"Canada population 2023\"\n",
      "Observation: 39,566,248\n",
      "Thought:This number seems accurate, but I should double-check with another source to confirm.\n",
      "Action: Search\n",
      "Action Input: \"Canada population 2023 statistics\"\n",
      "Observation: Canada's population was estimated at 39,566,248 on January 1, 2023, after a record population growth of 1,050,110 people from January 1, 2022, to January 1, 2023.\n",
      "Thought:\u001b[0m\n",
      "-- langchain-mod --\n",
      "{'prompt_tokens': 279, 'completion_tokens': 34, 'total_tokens': 313}\n",
      "-- langchain-mod --\n",
      "\n",
      "\u001b[1m> Finished chain.\u001b[0m\n",
      "\u001b[32;1m\u001b[1;3mI now know the final answer\n",
      "Final Answer: As of January 1, 2023, Canada's population was estimated to be 39,566,248.\u001b[0m\n",
      "\n",
      "\u001b[1m> Finished chain.\u001b[0m\n"
     ]
    },
    {
     "data": {
      "text/plain": [
       "As of January 1, 2023, Canada's population was estimated to be 39,566,248.\n",
       "--\n",
       "AiResult: used 715 token, cost $0.0014, took 12.0 seconds"
      ]
     },
     "execution_count": 14,
     "metadata": {},
     "output_type": "execute_result"
    }
   ],
   "source": [
    "what_next(\"How many people live in canada as of 2023?\")"
   ]
  },
  {
   "cell_type": "code",
   "execution_count": null,
   "id": "6a75e935-4c63-47f3-b98c-3f66412576d7",
   "metadata": {},
   "outputs": [],
   "source": []
  },
  {
   "cell_type": "code",
   "execution_count": null,
   "id": "11a643ac-4f20-4d74-b9e8-111de4d4b859",
   "metadata": {},
   "outputs": [],
   "source": []
  }
 ],
 "metadata": {
  "kernelspec": {
   "display_name": "Python 3 (ipykernel)",
   "language": "python",
   "name": "python3"
  },
  "language_info": {
   "codemirror_mode": {
    "name": "ipython",
    "version": 3
   },
   "file_extension": ".py",
   "mimetype": "text/x-python",
   "name": "python",
   "nbconvert_exporter": "python",
   "pygments_lexer": "ipython3",
   "version": "3.11.2"
  }
 },
 "nbformat": 4,
 "nbformat_minor": 5
}
